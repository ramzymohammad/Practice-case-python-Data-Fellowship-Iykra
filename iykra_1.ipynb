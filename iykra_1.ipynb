{
 "cells": [
  {
   "cell_type": "markdown",
   "id": "certified-start",
   "metadata": {},
   "source": [
    "# Import package"
   ]
  },
  {
   "cell_type": "code",
   "execution_count": 1,
   "id": "amazing-patio",
   "metadata": {},
   "outputs": [],
   "source": [
    "import mysql.connector\n",
    "import pandas as pd\n",
    "import numpy as np"
   ]
  },
  {
   "cell_type": "markdown",
   "id": "smaller-transformation",
   "metadata": {},
   "source": [
    "# Connect ke SQL"
   ]
  },
  {
   "cell_type": "code",
   "execution_count": 2,
   "id": "medical-leonard",
   "metadata": {},
   "outputs": [],
   "source": [
    "con = mysql.connector.connect(\n",
    "    host='localhost',\n",
    "    user='root',\n",
    "    passwd='8706419235'\n",
    ")"
   ]
  },
  {
   "cell_type": "code",
   "execution_count": 3,
   "id": "employed-disney",
   "metadata": {},
   "outputs": [
    {
     "data": {
      "text/plain": [
       "<mysql.connector.cursor_cext.CMySQLCursorBuffered at 0x25dfaed3520>"
      ]
     },
     "execution_count": 3,
     "metadata": {},
     "output_type": "execute_result"
    }
   ],
   "source": [
    "c = con.cursor(buffered=True)\n",
    "query = 'SHOW databases'\n",
    "c.execute(query)\n",
    "c"
   ]
  },
  {
   "cell_type": "markdown",
   "id": "unique-climate",
   "metadata": {},
   "source": [
    "# Memilih database "
   ]
  },
  {
   "cell_type": "code",
   "execution_count": 4,
   "id": "social-belfast",
   "metadata": {},
   "outputs": [
    {
     "data": {
      "text/plain": [
       "[('belajar_mysql',),\n",
       " ('information_schema',),\n",
       " ('iykra',),\n",
       " ('iykra_2',),\n",
       " ('iykra_3',),\n",
       " ('iykra_4',),\n",
       " ('iykra_5',),\n",
       " ('mysql',),\n",
       " ('performance_schema',),\n",
       " ('sys',),\n",
       " ('wo',),\n",
       " ('wor',),\n",
       " ('world',)]"
      ]
     },
     "execution_count": 4,
     "metadata": {},
     "output_type": "execute_result"
    }
   ],
   "source": [
    "c.fetchall()"
   ]
  },
  {
   "cell_type": "code",
   "execution_count": 5,
   "id": "expected-principal",
   "metadata": {},
   "outputs": [],
   "source": [
    "query = 'USE iykra_5'\n",
    "c.execute(query)"
   ]
  },
  {
   "cell_type": "code",
   "execution_count": 6,
   "id": "artificial-carbon",
   "metadata": {},
   "outputs": [
    {
     "data": {
      "text/plain": [
       "[('transactions',)]"
      ]
     },
     "execution_count": 6,
     "metadata": {},
     "output_type": "execute_result"
    }
   ],
   "source": [
    "query = 'SHOW tables'\n",
    "c.execute(query)\n",
    "c.fetchall()"
   ]
  },
  {
   "cell_type": "markdown",
   "id": "instant-collective",
   "metadata": {},
   "source": [
    "# Input Data"
   ]
  },
  {
   "cell_type": "code",
   "execution_count": 9,
   "id": "external-container",
   "metadata": {},
   "outputs": [],
   "source": [
    "q = \"INSERT INTO transactions (id, insert_time, tx_amount, tx_type, status_) \\\n",
    "values (1, '2021-03-02 10:30:30', 100, 'buy', 'close')\"\n",
    "c.execute(q)"
   ]
  },
  {
   "cell_type": "code",
   "execution_count": 11,
   "id": "inner-binding",
   "metadata": {},
   "outputs": [],
   "source": [
    "q = \"INSERT INTO transactions (id, insert_time, tx_amount, tx_type, status_) \\\n",
    "values (2, '2021-03-02 10:35:30', 100, 'sell', 'open')\"\n",
    "c.execute(q)"
   ]
  },
  {
   "cell_type": "code",
   "execution_count": 12,
   "id": "pregnant-lending",
   "metadata": {},
   "outputs": [],
   "source": [
    "q = \"INSERT INTO transactions (id, insert_time, tx_amount, tx_type, status_) \\\n",
    "values (3, '2021-03-02 14:30:30', 10, 'buy', 'close')\"\n",
    "c.execute(q)"
   ]
  },
  {
   "cell_type": "code",
   "execution_count": 13,
   "id": "fallen-burst",
   "metadata": {},
   "outputs": [],
   "source": [
    "q = \"INSERT INTO transactions (id, insert_time, tx_amount, tx_type, status_) \\\n",
    "values (4, '2021-03-02 13:30:30', 1, 'sell', 'open')\"\n",
    "c.execute(q)"
   ]
  },
  {
   "cell_type": "code",
   "execution_count": 14,
   "id": "protective-compression",
   "metadata": {},
   "outputs": [],
   "source": [
    "con.commit()"
   ]
  },
  {
   "cell_type": "code",
   "execution_count": 15,
   "id": "exempt-musician",
   "metadata": {},
   "outputs": [
    {
     "data": {
      "text/html": [
       "<div>\n",
       "<style scoped>\n",
       "    .dataframe tbody tr th:only-of-type {\n",
       "        vertical-align: middle;\n",
       "    }\n",
       "\n",
       "    .dataframe tbody tr th {\n",
       "        vertical-align: top;\n",
       "    }\n",
       "\n",
       "    .dataframe thead th {\n",
       "        text-align: right;\n",
       "    }\n",
       "</style>\n",
       "<table border=\"1\" class=\"dataframe\">\n",
       "  <thead>\n",
       "    <tr style=\"text-align: right;\">\n",
       "      <th></th>\n",
       "      <th>id</th>\n",
       "      <th>insert_time</th>\n",
       "      <th>tx_amount</th>\n",
       "      <th>tx_type</th>\n",
       "      <th>status_</th>\n",
       "    </tr>\n",
       "  </thead>\n",
       "  <tbody>\n",
       "    <tr>\n",
       "      <th>0</th>\n",
       "      <td>1</td>\n",
       "      <td>2021-03-02 10:30:30</td>\n",
       "      <td>100.0</td>\n",
       "      <td>buy</td>\n",
       "      <td>close</td>\n",
       "    </tr>\n",
       "    <tr>\n",
       "      <th>1</th>\n",
       "      <td>2</td>\n",
       "      <td>2021-03-02 10:35:30</td>\n",
       "      <td>100.0</td>\n",
       "      <td>sell</td>\n",
       "      <td>open</td>\n",
       "    </tr>\n",
       "    <tr>\n",
       "      <th>2</th>\n",
       "      <td>3</td>\n",
       "      <td>2021-03-02 14:30:30</td>\n",
       "      <td>10.0</td>\n",
       "      <td>buy</td>\n",
       "      <td>close</td>\n",
       "    </tr>\n",
       "    <tr>\n",
       "      <th>3</th>\n",
       "      <td>4</td>\n",
       "      <td>2021-03-02 13:30:30</td>\n",
       "      <td>1.0</td>\n",
       "      <td>sell</td>\n",
       "      <td>open</td>\n",
       "    </tr>\n",
       "  </tbody>\n",
       "</table>\n",
       "</div>"
      ],
      "text/plain": [
       "   id         insert_time  tx_amount tx_type status_\n",
       "0   1 2021-03-02 10:30:30      100.0     buy   close\n",
       "1   2 2021-03-02 10:35:30      100.0    sell    open\n",
       "2   3 2021-03-02 14:30:30       10.0     buy   close\n",
       "3   4 2021-03-02 13:30:30        1.0    sell    open"
      ]
     },
     "execution_count": 15,
     "metadata": {},
     "output_type": "execute_result"
    }
   ],
   "source": [
    "query = 'SELECT * FROM transactions'\n",
    "c.execute(query)\n",
    "res = c.fetchall()\n",
    "cols = c.column_names\n",
    "\n",
    "# bikin DF\n",
    "customer_df = pd.DataFrame(res, columns = cols)\n",
    "customer_df"
   ]
  },
  {
   "cell_type": "markdown",
   "id": "renewable-world",
   "metadata": {},
   "source": [
    "#### Terjadi perubahan/transaksi yang dilakukan oleh user_id"
   ]
  },
  {
   "cell_type": "code",
   "execution_count": 16,
   "id": "close-bottom",
   "metadata": {},
   "outputs": [],
   "source": [
    "q = \"INSERT INTO transactions (id, insert_time, tx_amount, tx_type, status_) \\\n",
    "values (1, '2021-03-02 14:30:30', 150, 'buy', 'open')\"\n",
    "c.execute(q)"
   ]
  },
  {
   "cell_type": "code",
   "execution_count": 17,
   "id": "extraordinary-island",
   "metadata": {},
   "outputs": [],
   "source": [
    "q = \"INSERT INTO transactions (id, insert_time, tx_amount, tx_type, status_) \\\n",
    "values (4, '2021-03-02 14:30:30', 100, 'sell', 'close')\"\n",
    "c.execute(q)"
   ]
  },
  {
   "cell_type": "code",
   "execution_count": 18,
   "id": "anonymous-electronics",
   "metadata": {},
   "outputs": [],
   "source": [
    "q = \"INSERT INTO transactions (id, insert_time, tx_amount, tx_type, status_) \\\n",
    "values (3, '2021-03-02 15:00:00', 200, 'sell', 'close')\"\n",
    "c.execute(q)"
   ]
  },
  {
   "cell_type": "code",
   "execution_count": 19,
   "id": "instant-sitting",
   "metadata": {},
   "outputs": [],
   "source": [
    "q = \"INSERT INTO transactions (id, insert_time, tx_amount, tx_type, status_) \\\n",
    "values (2, '2021-03-02 13:30:30', 40, 'buy', 'open')\"\n",
    "c.execute(q)"
   ]
  },
  {
   "cell_type": "code",
   "execution_count": 20,
   "id": "rational-salmon",
   "metadata": {},
   "outputs": [],
   "source": [
    "con.commit()"
   ]
  },
  {
   "cell_type": "code",
   "execution_count": 21,
   "id": "happy-insulation",
   "metadata": {},
   "outputs": [
    {
     "data": {
      "text/html": [
       "<div>\n",
       "<style scoped>\n",
       "    .dataframe tbody tr th:only-of-type {\n",
       "        vertical-align: middle;\n",
       "    }\n",
       "\n",
       "    .dataframe tbody tr th {\n",
       "        vertical-align: top;\n",
       "    }\n",
       "\n",
       "    .dataframe thead th {\n",
       "        text-align: right;\n",
       "    }\n",
       "</style>\n",
       "<table border=\"1\" class=\"dataframe\">\n",
       "  <thead>\n",
       "    <tr style=\"text-align: right;\">\n",
       "      <th></th>\n",
       "      <th>id</th>\n",
       "      <th>insert_time</th>\n",
       "      <th>tx_amount</th>\n",
       "      <th>tx_type</th>\n",
       "      <th>status_</th>\n",
       "    </tr>\n",
       "  </thead>\n",
       "  <tbody>\n",
       "    <tr>\n",
       "      <th>0</th>\n",
       "      <td>1</td>\n",
       "      <td>2021-03-02 10:30:30</td>\n",
       "      <td>100.0</td>\n",
       "      <td>buy</td>\n",
       "      <td>close</td>\n",
       "    </tr>\n",
       "    <tr>\n",
       "      <th>1</th>\n",
       "      <td>2</td>\n",
       "      <td>2021-03-02 10:35:30</td>\n",
       "      <td>100.0</td>\n",
       "      <td>sell</td>\n",
       "      <td>open</td>\n",
       "    </tr>\n",
       "    <tr>\n",
       "      <th>2</th>\n",
       "      <td>3</td>\n",
       "      <td>2021-03-02 14:30:30</td>\n",
       "      <td>10.0</td>\n",
       "      <td>buy</td>\n",
       "      <td>close</td>\n",
       "    </tr>\n",
       "    <tr>\n",
       "      <th>3</th>\n",
       "      <td>4</td>\n",
       "      <td>2021-03-02 13:30:30</td>\n",
       "      <td>1.0</td>\n",
       "      <td>sell</td>\n",
       "      <td>open</td>\n",
       "    </tr>\n",
       "    <tr>\n",
       "      <th>4</th>\n",
       "      <td>1</td>\n",
       "      <td>2021-03-02 14:30:30</td>\n",
       "      <td>150.0</td>\n",
       "      <td>buy</td>\n",
       "      <td>open</td>\n",
       "    </tr>\n",
       "    <tr>\n",
       "      <th>5</th>\n",
       "      <td>4</td>\n",
       "      <td>2021-03-02 14:30:30</td>\n",
       "      <td>100.0</td>\n",
       "      <td>sell</td>\n",
       "      <td>close</td>\n",
       "    </tr>\n",
       "    <tr>\n",
       "      <th>6</th>\n",
       "      <td>3</td>\n",
       "      <td>2021-03-02 15:00:00</td>\n",
       "      <td>200.0</td>\n",
       "      <td>sell</td>\n",
       "      <td>close</td>\n",
       "    </tr>\n",
       "    <tr>\n",
       "      <th>7</th>\n",
       "      <td>2</td>\n",
       "      <td>2021-03-02 13:30:30</td>\n",
       "      <td>40.0</td>\n",
       "      <td>buy</td>\n",
       "      <td>open</td>\n",
       "    </tr>\n",
       "  </tbody>\n",
       "</table>\n",
       "</div>"
      ],
      "text/plain": [
       "   id         insert_time  tx_amount tx_type status_\n",
       "0   1 2021-03-02 10:30:30      100.0     buy   close\n",
       "1   2 2021-03-02 10:35:30      100.0    sell    open\n",
       "2   3 2021-03-02 14:30:30       10.0     buy   close\n",
       "3   4 2021-03-02 13:30:30        1.0    sell    open\n",
       "4   1 2021-03-02 14:30:30      150.0     buy    open\n",
       "5   4 2021-03-02 14:30:30      100.0    sell   close\n",
       "6   3 2021-03-02 15:00:00      200.0    sell   close\n",
       "7   2 2021-03-02 13:30:30       40.0     buy    open"
      ]
     },
     "execution_count": 21,
     "metadata": {},
     "output_type": "execute_result"
    }
   ],
   "source": [
    "query = 'SELECT * FROM transactions'\n",
    "c.execute(query)\n",
    "res = c.fetchall()\n",
    "cols = c.column_names\n",
    "\n",
    "# bikin DF\n",
    "customer_df = pd.DataFrame(res, columns = cols)\n",
    "customer_df"
   ]
  },
  {
   "cell_type": "markdown",
   "id": "alert-separate",
   "metadata": {},
   "source": [
    "# Maka kita melakukan update pada data di atas"
   ]
  },
  {
   "cell_type": "code",
   "execution_count": 22,
   "id": "ideal-workstation",
   "metadata": {},
   "outputs": [
    {
     "data": {
      "text/html": [
       "<div>\n",
       "<style scoped>\n",
       "    .dataframe tbody tr th:only-of-type {\n",
       "        vertical-align: middle;\n",
       "    }\n",
       "\n",
       "    .dataframe tbody tr th {\n",
       "        vertical-align: top;\n",
       "    }\n",
       "\n",
       "    .dataframe thead th {\n",
       "        text-align: right;\n",
       "    }\n",
       "</style>\n",
       "<table border=\"1\" class=\"dataframe\">\n",
       "  <thead>\n",
       "    <tr style=\"text-align: right;\">\n",
       "      <th></th>\n",
       "      <th>id</th>\n",
       "      <th>insert_time</th>\n",
       "      <th>tx_amount</th>\n",
       "      <th>tx_type</th>\n",
       "      <th>status_</th>\n",
       "    </tr>\n",
       "  </thead>\n",
       "  <tbody>\n",
       "    <tr>\n",
       "      <th>0</th>\n",
       "      <td>1</td>\n",
       "      <td>2021-03-02 14:30:30</td>\n",
       "      <td>150.0</td>\n",
       "      <td>buy</td>\n",
       "      <td>open</td>\n",
       "    </tr>\n",
       "    <tr>\n",
       "      <th>1</th>\n",
       "      <td>4</td>\n",
       "      <td>2021-03-02 14:30:30</td>\n",
       "      <td>100.0</td>\n",
       "      <td>sell</td>\n",
       "      <td>close</td>\n",
       "    </tr>\n",
       "    <tr>\n",
       "      <th>2</th>\n",
       "      <td>3</td>\n",
       "      <td>2021-03-02 15:00:00</td>\n",
       "      <td>200.0</td>\n",
       "      <td>sell</td>\n",
       "      <td>close</td>\n",
       "    </tr>\n",
       "    <tr>\n",
       "      <th>3</th>\n",
       "      <td>2</td>\n",
       "      <td>2021-03-02 13:30:30</td>\n",
       "      <td>40.0</td>\n",
       "      <td>buy</td>\n",
       "      <td>open</td>\n",
       "    </tr>\n",
       "  </tbody>\n",
       "</table>\n",
       "</div>"
      ],
      "text/plain": [
       "   id         insert_time  tx_amount tx_type status_\n",
       "0   1 2021-03-02 14:30:30      150.0     buy    open\n",
       "1   4 2021-03-02 14:30:30      100.0    sell   close\n",
       "2   3 2021-03-02 15:00:00      200.0    sell   close\n",
       "3   2 2021-03-02 13:30:30       40.0     buy    open"
      ]
     },
     "execution_count": 22,
     "metadata": {},
     "output_type": "execute_result"
    }
   ],
   "source": [
    "query = 'SELECT tt.* FROM transactions tt INNER JOIN (SELECT id, MAX(insert_time) AS MaxDateTime FROM transactions GROUP BY id) groupedtt  ON tt.id = groupedtt.id  AND tt.insert_time = groupedtt.MaxDateTime'\n",
    "c.execute(query)\n",
    "res = c.fetchall()\n",
    "cols = c.column_names\n",
    "\n",
    "# bikin DF\n",
    "customer_df = pd.DataFrame(res, columns = cols)\n",
    "customer_df"
   ]
  },
  {
   "cell_type": "code",
   "execution_count": null,
   "id": "bright-heavy",
   "metadata": {},
   "outputs": [],
   "source": []
  }
 ],
 "metadata": {
  "kernelspec": {
   "display_name": "Python 3",
   "language": "python",
   "name": "python3"
  },
  "language_info": {
   "codemirror_mode": {
    "name": "ipython",
    "version": 3
   },
   "file_extension": ".py",
   "mimetype": "text/x-python",
   "name": "python",
   "nbconvert_exporter": "python",
   "pygments_lexer": "ipython3",
   "version": "3.8.7"
  }
 },
 "nbformat": 4,
 "nbformat_minor": 5
}
