{
 "cells": [
  {
   "cell_type": "markdown",
   "id": "isolated-presence",
   "metadata": {},
   "source": [
    "# 1.Import Package"
   ]
  },
  {
   "cell_type": "code",
   "execution_count": 1,
   "id": "polar-pattern",
   "metadata": {},
   "outputs": [],
   "source": [
    "import mysql.connector\n",
    "import pandas as pd\n",
    "import numpy as np"
   ]
  },
  {
   "cell_type": "markdown",
   "id": "religious-switch",
   "metadata": {},
   "source": [
    "# 2. Connect ke SQL"
   ]
  },
  {
   "cell_type": "code",
   "execution_count": 2,
   "id": "representative-operator",
   "metadata": {},
   "outputs": [],
   "source": [
    "con = mysql.connector.connect(\n",
    "    host='localhost',\n",
    "    user='root',\n",
    "    passwd='8706419235'\n",
    ")"
   ]
  },
  {
   "cell_type": "code",
   "execution_count": 3,
   "id": "directed-sociology",
   "metadata": {},
   "outputs": [
    {
     "data": {
      "text/plain": [
       "<mysql.connector.cursor_cext.CMySQLCursorBuffered at 0x1974bc63550>"
      ]
     },
     "execution_count": 3,
     "metadata": {},
     "output_type": "execute_result"
    }
   ],
   "source": [
    "c = con.cursor(buffered=True)\n",
    "query = 'SHOW databases'\n",
    "c.execute(query)\n",
    "c"
   ]
  },
  {
   "cell_type": "code",
   "execution_count": 4,
   "id": "compatible-possible",
   "metadata": {},
   "outputs": [
    {
     "data": {
      "text/plain": [
       "[('belajar_mysql',),\n",
       " ('information_schema',),\n",
       " ('iykra',),\n",
       " ('iykra_2',),\n",
       " ('iykra_3',),\n",
       " ('mysql',),\n",
       " ('performance_schema',),\n",
       " ('sys',),\n",
       " ('wo',),\n",
       " ('wor',),\n",
       " ('world',)]"
      ]
     },
     "execution_count": 4,
     "metadata": {},
     "output_type": "execute_result"
    }
   ],
   "source": [
    "c.fetchall()"
   ]
  },
  {
   "cell_type": "markdown",
   "id": "copyrighted-houston",
   "metadata": {},
   "source": [
    "## 2.1 Memilih database yang akan digunakan"
   ]
  },
  {
   "cell_type": "code",
   "execution_count": 5,
   "id": "successful-decimal",
   "metadata": {},
   "outputs": [],
   "source": [
    "query = 'USE iykra_3'\n",
    "c.execute(query)"
   ]
  },
  {
   "cell_type": "markdown",
   "id": "sudden-prefix",
   "metadata": {},
   "source": [
    "## 2.2 Memilih table"
   ]
  },
  {
   "cell_type": "code",
   "execution_count": 6,
   "id": "environmental-terry",
   "metadata": {},
   "outputs": [
    {
     "data": {
      "text/plain": [
       "[('sales',)]"
      ]
     },
     "execution_count": 6,
     "metadata": {},
     "output_type": "execute_result"
    }
   ],
   "source": [
    "query = 'SHOW tables'\n",
    "c.execute(query)\n",
    "c.fetchall()"
   ]
  },
  {
   "cell_type": "markdown",
   "id": "desperate-increase",
   "metadata": {},
   "source": [
    "## 2.3 Input Data ke table"
   ]
  },
  {
   "cell_type": "code",
   "execution_count": 7,
   "id": "simple-brand",
   "metadata": {},
   "outputs": [],
   "source": [
    "q = \"INSERT INTO sales (date_, sales) \\\n",
    "values ('2021-01-02',34)\"\n",
    "c.execute(q)"
   ]
  },
  {
   "cell_type": "code",
   "execution_count": 9,
   "id": "engaged-aviation",
   "metadata": {},
   "outputs": [],
   "source": [
    "q = \"INSERT INTO sales (date_, sales) \\\n",
    "values ('2021-01-02',123)\"\n",
    "c.execute(q)"
   ]
  },
  {
   "cell_type": "code",
   "execution_count": 11,
   "id": "complicated-placement",
   "metadata": {},
   "outputs": [],
   "source": [
    "q = \"INSERT INTO sales (date_, sales) \\\n",
    "values ('2021-01-01',100)\"\n",
    "c.execute(q)"
   ]
  },
  {
   "cell_type": "code",
   "execution_count": 12,
   "id": "genuine-lounge",
   "metadata": {},
   "outputs": [],
   "source": [
    "q = \"INSERT INTO sales (date_, sales) \\\n",
    "values ('2021-01-02',134)\"\n",
    "c.execute(q)"
   ]
  },
  {
   "cell_type": "code",
   "execution_count": 13,
   "id": "divided-movement",
   "metadata": {},
   "outputs": [],
   "source": [
    "q = \"INSERT INTO sales (date_, sales) \\\n",
    "values ('2021-01-03',145)\"\n",
    "c.execute(q)"
   ]
  },
  {
   "cell_type": "code",
   "execution_count": 14,
   "id": "decreased-genome",
   "metadata": {},
   "outputs": [],
   "source": [
    "q = \"INSERT INTO sales (date_, sales) \\\n",
    "values ('2021-01-03',24)\"\n",
    "c.execute(q)"
   ]
  },
  {
   "cell_type": "code",
   "execution_count": 15,
   "id": "breeding-resolution",
   "metadata": {},
   "outputs": [],
   "source": [
    "q = \"INSERT INTO sales (date_, sales) \\\n",
    "values ('2021-01-04',541)\"\n",
    "c.execute(q)"
   ]
  },
  {
   "cell_type": "code",
   "execution_count": 16,
   "id": "numerous-telescope",
   "metadata": {},
   "outputs": [],
   "source": [
    "q = \"INSERT INTO sales (date_, sales) \\\n",
    "values ('2021-01-04',636)\"\n",
    "c.execute(q)"
   ]
  },
  {
   "cell_type": "code",
   "execution_count": 17,
   "id": "ranking-armstrong",
   "metadata": {},
   "outputs": [],
   "source": [
    "q = \"INSERT INTO sales (date_, sales) \\\n",
    "values ('2021-01-05',322)\"\n",
    "c.execute(q)"
   ]
  },
  {
   "cell_type": "code",
   "execution_count": 18,
   "id": "sublime-expert",
   "metadata": {},
   "outputs": [],
   "source": [
    "q = \"INSERT INTO sales (date_, sales) \\\n",
    "values ('2021-01-06',242)\"\n",
    "c.execute(q)"
   ]
  },
  {
   "cell_type": "code",
   "execution_count": 19,
   "id": "sticky-steam",
   "metadata": {},
   "outputs": [],
   "source": [
    "q = \"INSERT INTO sales (date_, sales) \\\n",
    "values ('2021-01-07',22)\"\n",
    "c.execute(q)"
   ]
  },
  {
   "cell_type": "code",
   "execution_count": 20,
   "id": "single-turtle",
   "metadata": {},
   "outputs": [],
   "source": [
    "q = \"INSERT INTO sales (date_, sales) \\\n",
    "values ('2021-01-08',46)\"\n",
    "c.execute(q)"
   ]
  },
  {
   "cell_type": "code",
   "execution_count": 21,
   "id": "qualified-contest",
   "metadata": {},
   "outputs": [],
   "source": [
    "con.commit()"
   ]
  },
  {
   "cell_type": "markdown",
   "id": "sustained-majority",
   "metadata": {},
   "source": [
    "## 2.4 Melihat isi table dengan DataFrame"
   ]
  },
  {
   "cell_type": "code",
   "execution_count": 22,
   "id": "alternative-prescription",
   "metadata": {},
   "outputs": [
    {
     "data": {
      "text/html": [
       "<div>\n",
       "<style scoped>\n",
       "    .dataframe tbody tr th:only-of-type {\n",
       "        vertical-align: middle;\n",
       "    }\n",
       "\n",
       "    .dataframe tbody tr th {\n",
       "        vertical-align: top;\n",
       "    }\n",
       "\n",
       "    .dataframe thead th {\n",
       "        text-align: right;\n",
       "    }\n",
       "</style>\n",
       "<table border=\"1\" class=\"dataframe\">\n",
       "  <thead>\n",
       "    <tr style=\"text-align: right;\">\n",
       "      <th></th>\n",
       "      <th>date_</th>\n",
       "      <th>sales</th>\n",
       "    </tr>\n",
       "  </thead>\n",
       "  <tbody>\n",
       "    <tr>\n",
       "      <th>0</th>\n",
       "      <td>2021-01-02</td>\n",
       "      <td>34.0</td>\n",
       "    </tr>\n",
       "    <tr>\n",
       "      <th>1</th>\n",
       "      <td>2021-01-02</td>\n",
       "      <td>123.0</td>\n",
       "    </tr>\n",
       "    <tr>\n",
       "      <th>2</th>\n",
       "      <td>2021-01-01</td>\n",
       "      <td>100.0</td>\n",
       "    </tr>\n",
       "    <tr>\n",
       "      <th>3</th>\n",
       "      <td>2021-01-02</td>\n",
       "      <td>134.0</td>\n",
       "    </tr>\n",
       "    <tr>\n",
       "      <th>4</th>\n",
       "      <td>2021-01-03</td>\n",
       "      <td>145.0</td>\n",
       "    </tr>\n",
       "    <tr>\n",
       "      <th>5</th>\n",
       "      <td>2021-01-03</td>\n",
       "      <td>24.0</td>\n",
       "    </tr>\n",
       "    <tr>\n",
       "      <th>6</th>\n",
       "      <td>2021-01-04</td>\n",
       "      <td>541.0</td>\n",
       "    </tr>\n",
       "    <tr>\n",
       "      <th>7</th>\n",
       "      <td>2021-01-04</td>\n",
       "      <td>636.0</td>\n",
       "    </tr>\n",
       "    <tr>\n",
       "      <th>8</th>\n",
       "      <td>2021-01-05</td>\n",
       "      <td>322.0</td>\n",
       "    </tr>\n",
       "    <tr>\n",
       "      <th>9</th>\n",
       "      <td>2021-01-06</td>\n",
       "      <td>242.0</td>\n",
       "    </tr>\n",
       "    <tr>\n",
       "      <th>10</th>\n",
       "      <td>2021-01-07</td>\n",
       "      <td>22.0</td>\n",
       "    </tr>\n",
       "    <tr>\n",
       "      <th>11</th>\n",
       "      <td>2021-01-08</td>\n",
       "      <td>46.0</td>\n",
       "    </tr>\n",
       "  </tbody>\n",
       "</table>\n",
       "</div>"
      ],
      "text/plain": [
       "         date_  sales\n",
       "0   2021-01-02   34.0\n",
       "1   2021-01-02  123.0\n",
       "2   2021-01-01  100.0\n",
       "3   2021-01-02  134.0\n",
       "4   2021-01-03  145.0\n",
       "5   2021-01-03   24.0\n",
       "6   2021-01-04  541.0\n",
       "7   2021-01-04  636.0\n",
       "8   2021-01-05  322.0\n",
       "9   2021-01-06  242.0\n",
       "10  2021-01-07   22.0\n",
       "11  2021-01-08   46.0"
      ]
     },
     "execution_count": 22,
     "metadata": {},
     "output_type": "execute_result"
    }
   ],
   "source": [
    "query = 'SELECT * FROM sales'\n",
    "c.execute(query)\n",
    "res = c.fetchall()\n",
    "cols = c.column_names\n",
    "\n",
    "# bikin DF\n",
    "customer_df = pd.DataFrame(res, columns = cols)\n",
    "customer_df"
   ]
  },
  {
   "cell_type": "markdown",
   "id": "chemical-cowboy",
   "metadata": {},
   "source": [
    "## 2.5 Melakukan Query sesuai yang diinginkan soal"
   ]
  },
  {
   "cell_type": "code",
   "execution_count": 23,
   "id": "visible-charter",
   "metadata": {},
   "outputs": [
    {
     "data": {
      "text/html": [
       "<div>\n",
       "<style scoped>\n",
       "    .dataframe tbody tr th:only-of-type {\n",
       "        vertical-align: middle;\n",
       "    }\n",
       "\n",
       "    .dataframe tbody tr th {\n",
       "        vertical-align: top;\n",
       "    }\n",
       "\n",
       "    .dataframe thead th {\n",
       "        text-align: right;\n",
       "    }\n",
       "</style>\n",
       "<table border=\"1\" class=\"dataframe\">\n",
       "  <thead>\n",
       "    <tr style=\"text-align: right;\">\n",
       "      <th></th>\n",
       "      <th>date_</th>\n",
       "      <th>sum(sales)</th>\n",
       "    </tr>\n",
       "  </thead>\n",
       "  <tbody>\n",
       "    <tr>\n",
       "      <th>0</th>\n",
       "      <td>2021-01-02</td>\n",
       "      <td>291.0</td>\n",
       "    </tr>\n",
       "    <tr>\n",
       "      <th>1</th>\n",
       "      <td>2021-01-01</td>\n",
       "      <td>100.0</td>\n",
       "    </tr>\n",
       "    <tr>\n",
       "      <th>2</th>\n",
       "      <td>2021-01-03</td>\n",
       "      <td>169.0</td>\n",
       "    </tr>\n",
       "    <tr>\n",
       "      <th>3</th>\n",
       "      <td>2021-01-04</td>\n",
       "      <td>1177.0</td>\n",
       "    </tr>\n",
       "    <tr>\n",
       "      <th>4</th>\n",
       "      <td>2021-01-05</td>\n",
       "      <td>322.0</td>\n",
       "    </tr>\n",
       "    <tr>\n",
       "      <th>5</th>\n",
       "      <td>2021-01-06</td>\n",
       "      <td>242.0</td>\n",
       "    </tr>\n",
       "    <tr>\n",
       "      <th>6</th>\n",
       "      <td>2021-01-07</td>\n",
       "      <td>22.0</td>\n",
       "    </tr>\n",
       "    <tr>\n",
       "      <th>7</th>\n",
       "      <td>2021-01-08</td>\n",
       "      <td>46.0</td>\n",
       "    </tr>\n",
       "  </tbody>\n",
       "</table>\n",
       "</div>"
      ],
      "text/plain": [
       "        date_  sum(sales)\n",
       "0  2021-01-02       291.0\n",
       "1  2021-01-01       100.0\n",
       "2  2021-01-03       169.0\n",
       "3  2021-01-04      1177.0\n",
       "4  2021-01-05       322.0\n",
       "5  2021-01-06       242.0\n",
       "6  2021-01-07        22.0\n",
       "7  2021-01-08        46.0"
      ]
     },
     "metadata": {},
     "output_type": "display_data"
    }
   ],
   "source": [
    "query = \"select date_,sum(sales) from sales group by date_\"\n",
    "c.execute(query)\n",
    "res = c.fetchall()\n",
    "cols = c.column_names\n",
    "\n",
    "# Bikin DF\n",
    "customer_df = pd.DataFrame(res, columns=cols)\n",
    "display(customer_df)  # checking"
   ]
  },
  {
   "cell_type": "code",
   "execution_count": null,
   "id": "spoken-nightlife",
   "metadata": {},
   "outputs": [],
   "source": []
  }
 ],
 "metadata": {
  "kernelspec": {
   "display_name": "Python 3",
   "language": "python",
   "name": "python3"
  },
  "language_info": {
   "codemirror_mode": {
    "name": "ipython",
    "version": 3
   },
   "file_extension": ".py",
   "mimetype": "text/x-python",
   "name": "python",
   "nbconvert_exporter": "python",
   "pygments_lexer": "ipython3",
   "version": "3.8.7"
  }
 },
 "nbformat": 4,
 "nbformat_minor": 5
}
